{
  "cells": [
    {
      "cell_type": "raw",
      "metadata": {},
      "source": [
        "---\n",
        "title: 疋田 悠河：HIKIDA, Yuga\n",
        "---"
      ],
      "id": "1efc1cf1"
    },
    {
      "cell_type": "markdown",
      "metadata": {},
      "source": [
        "```{html}\n",
        "<img src=\"great_photo.png\" style=\"height: 100%; width: 100%>\n",
        "```\n",
        "\n",
        "\n",
        "ドイツで計量経済学修士。主にベイズ統計学/機械学習に興味があります。\n",
        "\n",
        "----\n",
        "\n",
        "## 来歴\n",
        "2023- リサーチアシスタント@ドルトムント工科大学\n",
        "\n",
        "計量経済学、計算機統計学の2つのラボで働いています。主にRパッケージの開発に携わっています。\n",
        "\n",
        "2021-2023 DSインターン @ Rejoui\n",
        "\n",
        "ログデータを使った顧客の行動解析や、医療分野のテキストマイニングに携わりました。\n",
        "\n",
        "----\n",
        "## 教育\n",
        "2022- 計量経済学修士 @独ルール大学連合\n",
        "\n",
        "2018-2022 経済学学士 @英サセックス大学"
      ],
      "id": "aeac4834"
    }
  ],
  "metadata": {
    "kernelspec": {
      "name": "python3",
      "language": "python",
      "display_name": "Python 3 (ipykernel)"
    }
  },
  "nbformat": 4,
  "nbformat_minor": 5
}